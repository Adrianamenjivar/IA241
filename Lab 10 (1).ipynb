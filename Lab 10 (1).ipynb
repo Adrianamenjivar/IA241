{
 "cells": [
  {
   "cell_type": "markdown",
   "metadata": {},
   "source": [
    "# AWS Rekognition"
   ]
  },
  {
   "cell_type": "code",
   "execution_count": 1,
   "metadata": {},
   "outputs": [],
   "source": [
    "import boto3\n",
    "from pprint import pprint\n",
    "\n",
    "client = boto3.client('rekognition')"
   ]
  },
  {
   "cell_type": "markdown",
   "metadata": {},
   "source": [
    "# Result"
   ]
  },
  {
   "cell_type": "code",
   "execution_count": 12,
   "metadata": {},
   "outputs": [
    {
     "name": "stdout",
     "output_type": "stream",
     "text": [
      "{'FaceMatches': [{'Face': {'BoundingBox': {'Height': 0.38286256790161133,\n",
      "                                           'Left': 0.3519742786884308,\n",
      "                                           'Top': 0.2197241485118866,\n",
      "                                           'Width': 0.3530729115009308},\n",
      "                           'Confidence': 100.0,\n",
      "                           'Landmarks': [{'Type': 'eyeLeft',\n",
      "                                          'X': 0.4830198884010315,\n",
      "                                          'Y': 0.36260825395584106},\n",
      "                                         {'Type': 'eyeRight',\n",
      "                                          'X': 0.6329948306083679,\n",
      "                                          'Y': 0.38493043184280396},\n",
      "                                         {'Type': 'mouthLeft',\n",
      "                                          'X': 0.47008880972862244,\n",
      "                                          'Y': 0.4974355697631836},\n",
      "                                         {'Type': 'mouthRight',\n",
      "                                          'X': 0.5933349132537842,\n",
      "                                          'Y': 0.5158755779266357},\n",
      "                                         {'Type': 'nose',\n",
      "                                          'X': 0.5565741062164307,\n",
      "                                          'Y': 0.43611177802085876}],\n",
      "                           'Pose': {'Pitch': 1.117941975593567,\n",
      "                                    'Roll': 9.632549285888672,\n",
      "                                    'Yaw': 11.416022300720215},\n",
      "                           'Quality': {'Brightness': 87.48825073242188,\n",
      "                                       'Sharpness': 95.51618957519531}},\n",
      "                  'Similarity': 100.0}],\n",
      " 'ResponseMetadata': {'HTTPHeaders': {'connection': 'keep-alive',\n",
      "                                      'content-length': '875',\n",
      "                                      'content-type': 'application/x-amz-json-1.1',\n",
      "                                      'date': 'Mon, 27 Apr 2020 23:04:26 GMT',\n",
      "                                      'x-amzn-requestid': 'db5791ce-8ea1-4691-a06d-714cd37707a4'},\n",
      "                      'HTTPStatusCode': 200,\n",
      "                      'RequestId': 'db5791ce-8ea1-4691-a06d-714cd37707a4',\n",
      "                      'RetryAttempts': 0},\n",
      " 'SourceImageFace': {'BoundingBox': {'Height': 0.38286256790161133,\n",
      "                                     'Left': 0.3519742786884308,\n",
      "                                     'Top': 0.2197241485118866,\n",
      "                                     'Width': 0.3530729115009308},\n",
      "                     'Confidence': 100.0},\n",
      " 'UnmatchedFaces': []}\n"
     ]
    }
   ],
   "source": [
    "response = client.compare_faces(\n",
    "    SimilarityThreshold=90,\n",
    "    SourceImage={\n",
    "        'S3Object': {\n",
    "            'Bucket': 'menjivar-ia241',\n",
    "            'Name': 'source (1).jfif',\n",
    "        },\n",
    "    },\n",
    "    TargetImage={\n",
    "        'S3Object': {\n",
    "            'Bucket': 'menjivar-ia241',\n",
    "            'Name': 'source (1).jfif',\n",
    "        },\n",
    "    },\n",
    ")\n",
    "\n",
    "\n",
    "pprint(response)"
   ]
  },
  {
   "cell_type": "code",
   "execution_count": null,
   "metadata": {},
   "outputs": [],
   "source": []
  }
 ],
 "metadata": {
  "kernelspec": {
   "display_name": "conda_python3",
   "language": "python",
   "name": "conda_python3"
  },
  "language_info": {
   "codemirror_mode": {
    "name": "ipython",
    "version": 3
   },
   "file_extension": ".py",
   "mimetype": "text/x-python",
   "name": "python",
   "nbconvert_exporter": "python",
   "pygments_lexer": "ipython3",
   "version": "3.6.5"
  }
 },
 "nbformat": 4,
 "nbformat_minor": 4
}
